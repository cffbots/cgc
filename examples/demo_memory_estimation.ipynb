{
 "cells": [
  {
   "source": [
    "## Estimate memory usage of co-clustering\n",
    "\n",
    "This Notebook demonstates how to estimate the memory usage of co-clustering. And compare it with the actual memory usage."
   ],
   "cell_type": "markdown",
   "metadata": {}
  },
  {
   "cell_type": "markdown",
   "metadata": {},
   "source": [
    "NOTE: This notebook makes use of memory_profiler, run the following block to install it using pip:"
   ]
  },
  {
   "cell_type": "code",
   "execution_count": 1,
   "metadata": {},
   "outputs": [],
   "source": [
    "# !pip install memory-profiler"
   ]
  },
  {
   "cell_type": "code",
   "execution_count": 2,
   "metadata": {},
   "outputs": [],
   "source": [
    "import matplotlib.pyplot as plt\n",
    "import numpy as np \n",
    "from memory_profiler import memory_usage, profile\n",
    "from cgc import coclustering_numpy\n",
    "from cgc.utils import mem_estimate_coclustering_numpy\n",
    "import logging\n",
    "import sys\n",
    "\n",
    "logging.basicConfig(level=logging.INFO, stream=sys.stdout)"
   ]
  },
  {
   "source": [
    "First we define a function which compare the actual vs estimated memory usage for a certain set of (m, n, k, l), i.e. matrix sizes and row/col cluster numbers."
   ],
   "cell_type": "markdown",
   "metadata": {}
  },
  {
   "cell_type": "code",
   "execution_count": 3,
   "metadata": {},
   "outputs": [],
   "source": [
    "def memory_usage_comapre(input, m, n, k, l):\n",
    "    # Compare real vs memomry estimated usage of coclustering_numpy \n",
    "\n",
    "    # Generate data\n",
    "    Z = np.random.random(size=(m, n))\n",
    "    \n",
    "    # Initialize cluster\n",
    "    row_clusters = coclustering_numpy._initialize_clusters(m, k)\n",
    "    col_clusters = coclustering_numpy._initialize_clusters(n, l)\n",
    "    input['nclusters_row'] = k\n",
    "    input['nclusters_col'] = l\n",
    "    input['row_clusters_init'] = row_clusters\n",
    "    input['col_clusters_init'] = col_clusters\n",
    "\n",
    "    # Real memory peak\n",
    "    mem_profile = np.array(memory_usage((coclustering_numpy.coclustering, (Z,), input), interval=0.01))\n",
    "    mem_peak_real = np.max(mem_profile - mem_profile[0]) + Z.nbytes/2**20 # Add the size of Z because it's initialized before profiling\n",
    "\n",
    "    # Estimatated memory peak\n",
    "    mem_peak_est = mem_estimate_coclustering_numpy(m, n, k, l, 'MB')[0]\n",
    "    mem_est_diff = mem_peak_real - mem_peak_est # difference between peak and estimation\n",
    "    results = np.array([[mem_peak_real, mem_peak_est, mem_est_diff]])\n",
    "\n",
    "    return results\n",
    "  "
   ]
  },
  {
   "source": [
    "Then we perform the comparison among a certain set of (m,n) and (k,l).\n",
    "Due to the initialisations within `memory_profiler`, the comparison for the first set may show artificial extra memory usage. Please execute the cell below twice to avoid this effect."
   ],
   "cell_type": "markdown",
   "metadata": {}
  },
  {
   "cell_type": "code",
   "execution_count": 4,
   "metadata": {
    "tags": []
   },
   "outputs": [
    {
     "output_type": "stream",
     "name": "stdout",
     "text": [
      "INFO:cgc.utils:Estimated memory usage: 686.69MB, peak number: 1\n",
      "INFO:cgc.utils:Estimated memory usage: 686.69MB, peak number: 1\n",
      "INFO:cgc.utils:Estimated memory usage: 2575.02MB, peak number: 1\n",
      "INFO:cgc.utils:Estimated memory usage: 2575.02MB, peak number: 2\n",
      "INFO:cgc.utils:Estimated memory usage: 801.17MB, peak number: 2\n",
      "INFO:cgc.utils:Estimated memory usage: 193.79MB, peak number: 1\n"
     ]
    }
   ],
   "source": [
    "mn_list = [(300000, 50), (500000, 50), (50, 500000), (100, 300000), (5000,5000)]\n",
    "kl_list = [(100, 20), (250, 20), (20,250), (10, 100), (20, 20)]\n",
    "\n",
    "input = {'errobj':1.e-5, \n",
    "         'niters':1, \n",
    "         'epsilon':1.e-8}\n",
    "input['low_memory'] = False\n",
    "input['numba_jit'] = False\n",
    "\n",
    "comp_res = np.empty((0,3)) # [row: mem_peak_real, mem_peak_est, mem_est_diff]\n",
    "for mn, kl in zip(mn_list, kl_list): \n",
    "    m = mn[0]\n",
    "    n = mn[1]\n",
    "    k = kl[0]\n",
    "    l = kl[1]\n",
    "    comp_res = np.append(comp_res, memory_usage_comapre(input, m, n, k, l), axis=0)\n"
   ]
  },
  {
   "source": [
    "The comparision output: real memory peak, estiamted memorypeak, and real minus estimated"
   ],
   "cell_type": "markdown",
   "metadata": {}
  },
  {
   "cell_type": "code",
   "execution_count": 5,
   "metadata": {
    "tags": []
   },
   "outputs": [
    {
     "output_type": "execute_result",
     "data": {
      "text/plain": [
       "array([[ 758.35107422,  686.68746948,   71.66360474],\n",
       "       [ 670.96435547,  686.68746948,  -15.72311401],\n",
       "       [2589.81689453, 2575.01983643,   14.79705811],\n",
       "       [2552.00830078, 2575.01983643,  -23.01153564],\n",
       "       [ 813.09667969,  801.16653442,   11.93014526],\n",
       "       [ 190.75830078,  193.78662109,   -3.02832031]])"
      ]
     },
     "metadata": {},
     "execution_count": 5
    }
   ],
   "source": [
    "# [mem_peak_real, mem_peak_est, mem_est_diff]\n",
    "comp_res"
   ]
  },
  {
   "source": [
    "If we calculate the fraction of the difference/actual usage, we can see the fraction is quite small. Therefore we can conclude that the estiamte is quite accurrate. "
   ],
   "cell_type": "markdown",
   "metadata": {}
  },
  {
   "cell_type": "code",
   "execution_count": 6,
   "metadata": {},
   "outputs": [
    {
     "output_type": "execute_result",
     "data": {
      "text/plain": [
       "array([ 0.09449925, -0.02343361,  0.00571355, -0.00901703,  0.01467248,\n",
       "       -0.01587517])"
      ]
     },
     "metadata": {},
     "execution_count": 6
    }
   ],
   "source": [
    "#difference percentage\n",
    "comp_res[:,2]/comp_res[:,0]"
   ]
  }
 ],
 "metadata": {
  "kernelspec": {
   "name": "python3",
   "display_name": "Python 3.9.4 64-bit ('cgc': conda)"
  },
  "language_info": {
   "codemirror_mode": {
    "name": "ipython",
    "version": 3
   },
   "file_extension": ".py",
   "mimetype": "text/x-python",
   "name": "python",
   "nbconvert_exporter": "python",
   "pygments_lexer": "ipython3",
   "version": "3.9.4"
  },
  "interpreter": {
   "hash": "e82b70dc0b932b5d8a4418de9b7c8931d4ec0c2e87ab55b59e13124e7cc57761"
  }
 },
 "nbformat": 4,
 "nbformat_minor": 4
}