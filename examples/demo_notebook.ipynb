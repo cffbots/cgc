{
 "cells": [
  {
   "cell_type": "code",
   "execution_count": null,
   "metadata": {},
   "outputs": [],
   "source": [
    "import cgc\n",
    "import logging\n",
    "import time\n",
    "import sys\n",
    "import dask.array as da\n",
    "import numpy as np\n",
    "import matplotlib.pyplot as plt\n",
    "\n",
    "from pathlib import Path\n",
    "from osgeo import gdal\n",
    "from cgc.kmeans import Kmeans\n",
    "from cgc.coclustering import Coclustering"
   ]
  },
  {
   "cell_type": "code",
   "execution_count": null,
   "metadata": {},
   "outputs": [],
   "source": [
    "cgc.__version__  # print clustering-geodata-cubes version"
   ]
  },
  {
   "cell_type": "code",
   "execution_count": null,
   "metadata": {},
   "outputs": [],
   "source": [
    "# logging configuration\n",
    "logging.basicConfig(format='%(asctime)s | %(levelname)s : %(message)s', \n",
    "                    level=logging.INFO, stream=sys.stdout)"
   ]
  },
  {
   "cell_type": "code",
   "execution_count": null,
   "metadata": {},
   "outputs": [],
   "source": [
    "# Manual input\n",
    "dir_tiff = Path('/mnt/c/Users/OuKu/Developments/phenology/data/Bloom/Europe/')\n",
    "dir_output = Path('/mnt/c/Users/OuKu/Developments/phenology/test_cocluster/')\n",
    "load_pattern = '195[0-2].tif'\n",
    "# load_pattern = '*.tif'\n",
    "band_id = 3 # 4th band\n",
    "k = 10  # num clusters in rows\n",
    "l = 2  # num clusters in columns\n",
    "errobj, niters, nruns, epsilon = 0.00001, 1, 1, 10e-8\n",
    "kmean_n_clusters = 3\n",
    "kmean_max_iter = 500"
   ]
  },
  {
   "cell_type": "code",
   "execution_count": null,
   "metadata": {},
   "outputs": [],
   "source": [
    "# Load first image, get th mask to select non-nan values\n",
    "h_tif = gdal.Open([x for x in dir_tiff.iterdir()][0].as_posix())\n",
    "img = h_tif.ReadAsArray(0, 0, h_tif.RasterXSize, h_tif.RasterYSize)[band_id]\n",
    "img = img.reshape(-1, 1)\n",
    "mask = np.where(np.isnan(img)==False)[0]\n"
   ]
  },
  {
   "cell_type": "code",
   "execution_count": null,
   "metadata": {},
   "outputs": [],
   "source": [
    "# Load the geotiffs\n",
    "Z = np.empty((len(mask),0))\n",
    "for f_tiff in dir_tiff.glob(load_pattern):\n",
    "    h_tif = gdal.Open(f_tiff.as_posix())\n",
    "    img = h_tif.ReadAsArray(0, 0, h_tif.RasterXSize, h_tif.RasterYSize)[band_id]\n",
    "    img = img.reshape(-1, 1)\n",
    "    img = img[mask]\n",
    "    Z = np.append(Z, img, axis=1)\n",
    "Z = Z.astype('float64')"
   ]
  },
  {
   "cell_type": "code",
   "execution_count": null,
   "metadata": {},
   "outputs": [],
   "source": [
    "# Co-clustering\n",
    "cc = Coclustering(Z, k, l, errobj, niters, nruns, epsilon)\n",
    "cc.run_with_threads(nthreads=1)"
   ]
  },
  {
   "cell_type": "code",
   "execution_count": null,
   "metadata": {},
   "outputs": [],
   "source": [
    "# Kmean\n",
    "km = Kmeans(Z=Z,\n",
    "            row_clusters=cc.row_clusters,\n",
    "            col_clusters=cc.col_clusters,\n",
    "            n_row_clusters=k,\n",
    "            n_col_clusters=l,\n",
    "            kmean_n_clusters=kmean_n_clusters,\n",
    "            kmean_max_iter=kmean_max_iter)\n",
    "km.compute()\n",
    "km.cl_mean_centroids"
   ]
  },
  {
   "cell_type": "code",
   "execution_count": null,
   "metadata": {},
   "outputs": [],
   "source": [
    "# Export Plots\n",
    "# Temporal cluster\n",
    "plt.plot(range(0,len(cc.col_clusters)),cc.col_clusters)\n",
    "plt.ylabel('Cluster')\n",
    "plt.xlabel('Years')\n",
    "plt.savefig((dir_output/'Temporal clusters').as_posix())\n",
    "\n",
    "# Spatial cluster\n",
    "# Reconstruct\n",
    "R = np.empty(h_tif.RasterXSize*h_tif.RasterYSize)\n",
    "R[:] = np.nan\n",
    "R[mask] = cc.row_clusters\n",
    "R = R.reshape(h_tif.RasterYSize, h_tif.RasterXSize)\n",
    "plt.imshow(R)\n",
    "plt.ylabel('Yaxis')\n",
    "plt.xlabel('Xaxis')\n",
    "plt.savefig((dir_output/'spatial_clusters.png').as_posix())\n",
    "\n",
    "# #Plot Spatial Grid\n",
    "# fig, ax = plt.subplots(int(np.floor(C.shape[1]/2)),\n",
    "#                         int(C.shape[1]-np.floor(C.shape[1]/2)))\n",
    "# empty_string_labels = ['']\n",
    "# min_val = np.min(ircc)\n",
    "# max_val = np.max(ircc)\n",
    "# colorbar_th = np.round(np.linspace(np.ceil(min_val),\n",
    "#                                     np.floor(max_val), 10))\n",
    "# for c, a in zip(range(0, C.shape[1]), ax.flatten()):\n",
    "#     temp_cl = np.where(C[:, c])[0]\n",
    "#     pr = np.unique(ircc[:, temp_cl], axis=1)\n",
    "#     spatial_group = np.reshape(pr, (block_ysize, block_xsize))\n",
    "#     fig1 = a.imshow(spatial_group, interpolation=\"None\", vmin=min_val,\n",
    "#                     vmax=max_val)\n",
    "#     a.set_title('Temp. cl ' + str(c+1), fontsize=16)\n",
    "#     a.grid(True)\n",
    "#     a.set_xticklabels(empty_string_labels)\n",
    "#     a.set_yticklabels(empty_string_labels)\n",
    "# cbar_ax = fig.add_axes([0.85, 0.15, 0.05, 0.7])\n",
    "# cb = fig.colorbar(fig1, cax=cbar_ax, ticks=colorbar_th)\n",
    "# cb.set_label('DOY', fontsize=16)\n",
    "# cb.ax.tick_params(labelsize=18)\n",
    "# plt.savefig(fig_outputdir + 'Spatial_info.png', format='png',\n",
    "#             transparent=True, bbox_inches=\"tight\")\n",
    "# plt.close(fig)"
   ]
  }
 ],
 "metadata": {
  "kernelspec": {
   "display_name": "Python 3",
   "language": "python",
   "name": "python3"
  },
  "language_info": {
   "codemirror_mode": {
    "name": "ipython",
    "version": 3
   },
   "file_extension": ".py",
   "mimetype": "text/x-python",
   "name": "python",
   "nbconvert_exporter": "python",
   "pygments_lexer": "ipython3",
   "version": "3.7.7"
  }
 },
 "nbformat": 4,
 "nbformat_minor": 2
}
