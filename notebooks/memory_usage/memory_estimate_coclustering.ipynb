{
 "cells": [
  {
   "cell_type": "markdown",
   "metadata": {},
   "source": [
    "## Estimate memory usage of co-clustering\n",
    "\n",
    "This notebook demonstates how to estimate the memory usage of co-clustering. And compare it with the actual memory usage."
   ]
  },
  {
   "cell_type": "markdown",
   "metadata": {},
   "source": [
    "NOTE: This notebook makes use of [memory_profiler](https://github.com/pythonprofilers/memory_profiler), run the following block to install it using `pip`:"
   ]
  },
  {
   "cell_type": "code",
   "execution_count": 1,
   "metadata": {},
   "outputs": [],
   "source": [
    "# !pip install memory-profiler"
   ]
  },
  {
   "cell_type": "code",
   "execution_count": 2,
   "metadata": {},
   "outputs": [],
   "source": [
    "import matplotlib.pyplot as plt\n",
    "import numpy as np \n",
    "from memory_profiler import memory_usage, profile\n",
    "from cgc import coclustering_numpy\n",
    "from cgc.utils import mem_estimate_coclustering_numpy\n",
    "import logging\n",
    "import sys\n",
    "\n",
    "logging.basicConfig(level=logging.INFO, stream=sys.stdout)"
   ]
  },
  {
   "cell_type": "markdown",
   "metadata": {},
   "source": [
    "First we define a function which compare the actual vs estimated memory usage for a certain set of matrix sizes (m, n) and number of row/column clusters (k, l):"
   ]
  },
  {
   "cell_type": "code",
   "execution_count": 3,
   "metadata": {},
   "outputs": [],
   "source": [
    "def memory_usage_compare(input, m, n, k, l):\n",
    "    # Compare real vs memomry estimated usage of coclustering_numpy \n",
    "\n",
    "    # Generate data\n",
    "    Z = np.random.random(size=(m, n))\n",
    "    \n",
    "    # Initialize cluster\n",
    "    row_clusters = coclustering_numpy._initialize_clusters(m, k)\n",
    "    col_clusters = coclustering_numpy._initialize_clusters(n, l)\n",
    "    input['nclusters_row'] = k\n",
    "    input['nclusters_col'] = l\n",
    "    input['row_clusters_init'] = row_clusters\n",
    "    input['col_clusters_init'] = col_clusters\n",
    "\n",
    "    # Real memory peak\n",
    "    mem_profile = np.array(memory_usage((coclustering_numpy.coclustering, (Z,), input), interval=0.01))\n",
    "    mem_peak_real = np.max(mem_profile - mem_profile[0]) + Z.nbytes/2**20 # Add the size of Z because it's initialized before profiling\n",
    "\n",
    "    # Estimatated memory peak\n",
    "    mem_peak_est = mem_estimate_coclustering_numpy(m, n, k, l, 'MB')[0]\n",
    "    mem_est_diff = mem_peak_real - mem_peak_est # difference between peak and estimation\n",
    "    results = np.array([[mem_peak_real, mem_peak_est, mem_est_diff]])\n",
    "\n",
    "    return results\n",
    "  "
   ]
  },
  {
   "cell_type": "markdown",
   "metadata": {},
   "source": [
    "Then we perform the comparison among a certain set of (m,n) and (k,l):"
   ]
  },
  {
   "cell_type": "code",
   "execution_count": 4,
   "metadata": {
    "tags": []
   },
   "outputs": [
    {
     "name": "stdout",
     "output_type": "stream",
     "text": [
      "INFO:cgc.utils:Estimated memory usage: 600.85MB, peak number: 1\n",
      "INFO:cgc.utils:Estimated memory usage: 2217.39MB, peak number: 1\n",
      "INFO:cgc.utils:Estimated memory usage: 2217.39MB, peak number: 2\n",
      "INFO:cgc.utils:Estimated memory usage: 715.33MB, peak number: 2\n",
      "INFO:cgc.utils:Estimated memory usage: 193.21MB, peak number: 1\n"
     ]
    }
   ],
   "source": [
    "mn_list = [(300000, 50), (500000, 50), (50, 500000), (100, 300000), (5000,5000)]\n",
    "kl_list = [(100, 20), (250, 20), (20,250), (10, 100), (20, 20)]\n",
    "\n",
    "input = {\n",
    "    'errobj': 1.e-5, \n",
    "    'niters': 1,\n",
    "    'low_memory': False,\n",
    "    'numba_jit': False\n",
    "}\n",
    "\n",
    "comp_res = np.empty((0,3)) # [row: mem_peak_real, mem_peak_est, mem_est_diff]\n",
    "for mn, kl in zip(mn_list, kl_list): \n",
    "    m = mn[0]\n",
    "    n = mn[1]\n",
    "    k = kl[0]\n",
    "    l = kl[1]\n",
    "    comp_res = np.append(comp_res, memory_usage_compare(input, m, n, k, l), axis=0)\n"
   ]
  },
  {
   "cell_type": "markdown",
   "metadata": {},
   "source": [
    "The comparision output: measured memory peak, estimated memory peak, and the difference between the two."
   ]
  },
  {
   "cell_type": "code",
   "execution_count": 5,
   "metadata": {
    "tags": []
   },
   "outputs": [
    {
     "data": {
      "text/plain": [
       "array([[ 632.69482422,  600.85391998,   31.84090424],\n",
       "       [2214.80517578, 2217.38910675,   -2.58393097],\n",
       "       [2162.32861328, 2217.38910675,  -55.06049347],\n",
       "       [ 745.27636719,  715.33298492,   29.94338226],\n",
       "       [ 195.83642578,  193.2144165 ,    2.62200928]])"
      ]
     },
     "execution_count": 5,
     "metadata": {},
     "output_type": "execute_result"
    }
   ],
   "source": [
    "# [mem_peak_real, mem_peak_est, mem_est_diff]\n",
    "comp_res"
   ]
  },
  {
   "cell_type": "markdown",
   "metadata": {},
   "source": [
    "If we calculate the fraction of the difference/actual usage, we can see the fraction is quite small: "
   ]
  },
  {
   "cell_type": "code",
   "execution_count": 6,
   "metadata": {},
   "outputs": [
    {
     "data": {
      "text/plain": [
       "array([ 0.05032585, -0.00116666, -0.02546352,  0.04017756,  0.01338877])"
      ]
     },
     "execution_count": 6,
     "metadata": {},
     "output_type": "execute_result"
    }
   ],
   "source": [
    "#difference percentage\n",
    "comp_res[:,2]/comp_res[:,0]"
   ]
  }
 ],
 "metadata": {
  "interpreter": {
   "hash": "e82b70dc0b932b5d8a4418de9b7c8931d4ec0c2e87ab55b59e13124e7cc57761"
  },
  "kernelspec": {
   "display_name": "Python 3 (ipykernel)",
   "language": "python",
   "name": "python3"
  },
  "language_info": {
   "codemirror_mode": {
    "name": "ipython",
    "version": 3
   },
   "file_extension": ".py",
   "mimetype": "text/x-python",
   "name": "python",
   "nbconvert_exporter": "python",
   "pygments_lexer": "ipython3",
   "version": "3.7.10"
  }
 },
 "nbformat": 4,
 "nbformat_minor": 4
}
